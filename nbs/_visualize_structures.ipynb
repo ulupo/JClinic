{
 "cells": [
  {
   "cell_type": "markdown",
   "metadata": {},
   "source": [
    "# Training set analysis and visualization\n",
    "\n",
    "> 1. Visualize structures with `py3dmol`\n",
    "> 2. Visualize clusters obained in the `clustering` module\n",
    "> 3. Show distribution of target values"
   ]
  },
  {
   "cell_type": "code",
   "execution_count": null,
   "metadata": {},
   "outputs": [],
   "source": [
    "%load_ext autoreload\n",
    "%autoreload 2"
   ]
  },
  {
   "cell_type": "code",
   "execution_count": null,
   "metadata": {},
   "outputs": [],
   "source": [
    "#| hide\n",
    "from nbdev.showdoc import *"
   ]
  },
  {
   "cell_type": "code",
   "execution_count": null,
   "metadata": {},
   "outputs": [],
   "source": [
    "from pathlib import Path\n",
    "\n",
    "import numpy as np\n",
    "import pandas as pd\n",
    "from scipy.spatial.distance import squareform\n",
    "from scipy.cluster.hierarchy import linkage, dendrogram\n",
    "\n",
    "from prody import parsePDB\n",
    "\n",
    "from jclinic.pairwise_rmsd import make_rmsds_matrix\n",
    "\n",
    "from matplotlib import pyplot as plt\n",
    "\n",
    "import py3Dmol\n",
    "from ipywidgets import interact\n",
    "\n",
    "\n",
    "COLOR_PALETTE_RGB_6 = np.array([\n",
    "    [64, 83, 211],\n",
    "    [221, 179, 16],\n",
    "    [181, 29, 20],\n",
    "    [0, 190, 255],\n",
    "    [251, 73, 176],\n",
    "    [0, 178, 93],\n",
    "    [202, 202, 202]\n",
    "])\n",
    "\n",
    "\n",
    "COLOR_PALETTE_RGB_12 = np.array([\n",
    "    [235, 172, 35],\n",
    "    [184, 0, 88],\n",
    "    [0, 140, 249],\n",
    "    [0, 110, 0],\n",
    "    [0, 187, 173],\n",
    "    [209, 99, 230],\n",
    "    [178, 69, 2],\n",
    "    [255, 146, 135],\n",
    "    [89, 84, 214],\n",
    "    [0, 198, 248],\n",
    "    [135, 133, 0],\n",
    "    [0, 167, 108],\n",
    "    [189, 189, 189]\n",
    "])"
   ]
  },
  {
   "cell_type": "markdown",
   "metadata": {},
   "source": [
    "## Gather and parse all PDB structures with `ProDy`\n",
    "\n",
    "**NOTE**: We sort the collection of structure names alphanumerically."
   ]
  },
  {
   "cell_type": "code",
   "execution_count": null,
   "metadata": {},
   "outputs": [],
   "source": [
    "structures_dir = Path(\"../data/structures_fixed\")\n",
    "structures_paths = {x.name.removesuffix(\".pdb\"): x for x in sorted(structures_dir.glob(\"*.pdb\"))}"
   ]
  },
  {
   "cell_type": "code",
   "execution_count": null,
   "metadata": {},
   "outputs": [],
   "source": [
    "parsed_structures_prody = {name: parsePDB(str(path)) for name, path in structures_paths.items()}"
   ]
  },
  {
   "cell_type": "markdown",
   "metadata": {},
   "source": [
    "### Check that all structures have only one coordinate set (model)"
   ]
  },
  {
   "cell_type": "code",
   "execution_count": null,
   "metadata": {},
   "outputs": [],
   "source": [
    "for name, structure in parsed_structures_prody.items():\n",
    "    if structure.numCoordsets() > 1:\n",
    "        warn(f\"More than one coordinate set present in {name}\")"
   ]
  },
  {
   "cell_type": "markdown",
   "metadata": {},
   "source": [
    "## 1. Visualize all structures with an interactive widget, coloring by chain"
   ]
  },
  {
   "cell_type": "code",
   "execution_count": null,
   "metadata": {},
   "outputs": [],
   "source": [
    "def show_py3dmol_view(name):\n",
    "    with open(structures_paths[name]) as ifile:\n",
    "        system = \"\".join([x for x in ifile])\n",
    "        view = py3Dmol.view(width=800, height=600)\n",
    "        view.addModelsAsFrames(system)\n",
    "        structure = parsed_structures_prody[name]\n",
    "        unique_chain_ids = np.unique(structure.getChids())\n",
    "        print(f\"Chain IDs: {unique_chain_ids}\")\n",
    "        for i, chain_id in enumerate(unique_chain_ids):\n",
    "            view.setStyle({\"chain\": chain_id},\n",
    "                          {\"cartoon\": {\"color\": f\"rgb{tuple(COLOR_PALETTE_RGB_12[i])}\"}})\n",
    "        view.zoomTo()\n",
    "        view.show()\n",
    "\n",
    "interact(show_py3dmol_view, name=structures_paths.keys());"
   ]
  },
  {
   "cell_type": "markdown",
   "metadata": {},
   "source": [
    "## 2. Compute pairwise RMSD matrix and show hierarchical clustering dendrogram"
   ]
  },
  {
   "cell_type": "code",
   "execution_count": null,
   "metadata": {},
   "outputs": [],
   "source": [
    "pairwise_rmsds = make_rmsds_matrix(parsed_structures_prody, show=True)"
   ]
  },
  {
   "cell_type": "code",
   "execution_count": null,
   "metadata": {},
   "outputs": [],
   "source": [
    "# Fill NaN values with twice the maximum finite value for visualization purposes\n",
    "pairwise_rmsds[pairwise_rmsds.isna()] = 2 * pairwise_rmsds.max(axis=None)\n",
    "\n",
    "Z = linkage(squareform(pairwise_rmsds, checks=False))\n",
    "\n",
    "plt.subplots(figsize=(10, 4))\n",
    "dendrogram(Z, labels=pairwise_rmsds.index);"
   ]
  },
  {
   "cell_type": "markdown",
   "metadata": {},
   "source": [
    "## 3. Read target values as a `Pandas` dataframe and show hierarchical clustering dendrogram\n",
    "\n",
    "**NOTE**: Again, we sort structure names alphanumerically.\n",
    "\n",
    "Several structures belong to the same PDB ID and have identical or very similar target values."
   ]
  },
  {
   "cell_type": "code",
   "execution_count": null,
   "metadata": {},
   "outputs": [],
   "source": [
    "labels_path = Path(\"../data/labels.txt\")\n",
    "df = pd.read_csv(\n",
    "    labels_path,\n",
    "    sep=\" \",\n",
    "    header=None,\n",
    "    names=[\"Structure\", \"Value\"],\n",
    "    index_col=\"Structure\"\n",
    ")\n",
    "df.sort_index(inplace=True)\n",
    "\n",
    "# Check that the dataframe index is identical to the `structures_paths` ordered key collection\n",
    "assert list(df.index) == list(structures_paths.keys())"
   ]
  },
  {
   "cell_type": "code",
   "execution_count": null,
   "metadata": {},
   "outputs": [],
   "source": [
    "Z = linkage(df)\n",
    "\n",
    "plt.subplots(figsize=(10, 4))\n",
    "dendrogram(Z, labels=df.index);"
   ]
  }
 ],
 "metadata": {
  "kernelspec": {
   "display_name": "python3",
   "language": "python",
   "name": "python3"
  }
 },
 "nbformat": 4,
 "nbformat_minor": 4
}
