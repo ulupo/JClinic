{
 "cells": [
  {
   "cell_type": "markdown",
   "metadata": {},
   "source": [
    "# pairwise_rmsd\n",
    "\n",
    "> Cluster PDB structures by RMSD after superposition"
   ]
  },
  {
   "cell_type": "code",
   "execution_count": null,
   "metadata": {},
   "outputs": [],
   "source": [
    "#| default_exp pairwise_rmsd"
   ]
  },
  {
   "cell_type": "code",
   "execution_count": null,
   "metadata": {},
   "outputs": [],
   "source": [
    "#| hide\n",
    "from nbdev.showdoc import *"
   ]
  },
  {
   "cell_type": "code",
   "execution_count": null,
   "metadata": {},
   "outputs": [],
   "source": [
    "#| export\n",
    "\n",
    "from pathlib import Path\n",
    "from warnings import warn\n",
    "\n",
    "from itertools import combinations\n",
    "\n",
    "from tqdm import tqdm\n",
    "\n",
    "import numpy as np\n",
    "import pandas as pd\n",
    "from scipy.spatial.distance import squareform\n",
    "from scipy.cluster.hierarchy import linkage, dendrogram\n",
    "from matplotlib import pyplot as plt\n",
    "\n",
    "from prody import (\n",
    "    confProDy,\n",
    "    AtomGroup,\n",
    "    matchChains,\n",
    "    calcTransformation,\n",
    "    calcRMSD,\n",
    "    showProtein,\n",
    ")\n",
    "\n",
    "\n",
    "confProDy(verbosity=\"critical\")\n",
    "\n",
    "\n",
    "def _printMatch(match):\n",
    "    # Source: http://prody.csb.pitt.edu/tutorials/structure_analysis/compare.html#match-chains\n",
    "    print(f\"Chain 1     : {match[0]}\")\n",
    "    print(f\"Chain 2     : {match[1]}\")\n",
    "    print(f\"Length      : {len(match[0])}\")\n",
    "    print(f\"Seq identity: {match[2]}\")\n",
    "    print(f\"Seq overlap : {match[3]}\")\n",
    "\n",
    "\n",
    "def _combine_matched_chains(matches):\n",
    "    n_chains = len(matches)\n",
    "    bound = matches[0][0]\n",
    "    unbound = matches[0][1]\n",
    "    for i in range(1, n_chains):\n",
    "        bound += matches[i][0]\n",
    "        unbound += matches[i][1]\n",
    "\n",
    "    return bound, unbound"
   ]
  },
  {
   "cell_type": "code",
   "execution_count": null,
   "metadata": {},
   "outputs": [],
   "source": [
    "#| export\n",
    "\n",
    "def make_rmsds_matrix(\n",
    "    parsed_structures_prody: dict[str, AtomGroup], show: bool = False\n",
    "):\n",
    "    \"\"\"\n",
    "    Make a dissimilarity matrix by attempting to perform all-vs-all structural alignments of the\n",
    "    parsed structures in `parsed_structures_prody`, and filling the matrix entries with the RMSDs\n",
    "    after alignment.\n",
    "\n",
    "    All chains are merged into one chain (named 'X') to be able to use ProDy's `matchChains` on\n",
    "    homomers.\n",
    "\n",
    "    Entries corresponding to non-alignable pairs are filled with NaN.\n",
    "    \"\"\"\n",
    "    structure_names = list(parsed_structures_prody.keys())\n",
    "    n_structures = len(structure_names)\n",
    "\n",
    "    pairwise_rmsds = pd.DataFrame(\n",
    "        data=0.0, index=structure_names, columns=structure_names, dtype=float\n",
    "    )\n",
    "    for name_i, name_j in tqdm(combinations(structure_names, 2)):\n",
    "        structure_i = parsed_structures_prody[name_i]\n",
    "        structure_j = parsed_structures_prody[name_j]\n",
    "        n_chains_i = len(structure_i.getHierView())\n",
    "        n_chains_j = len(structure_j.getHierView())\n",
    "        combined_chains_i = structure_i.copy()\n",
    "        combined_chains_j = structure_j.copy()\n",
    "        combined_chains_i.setChids(\"X\")\n",
    "        combined_chains_j.setChids(\"X\")\n",
    "        combined_chains_i.setSegnames(\"X\")\n",
    "        combined_chains_j.setSegnames(\"X\")\n",
    "        matches = matchChains(combined_chains_i, combined_chains_j, subset=\"calpha\")\n",
    "        if matches is not None:\n",
    "            if show:\n",
    "                print(name_i, name_j)\n",
    "                for match in matches:\n",
    "                    _printMatch(match)\n",
    "            bound_ca, unbound_ca = _combine_matched_chains(matches)\n",
    "            transformation = calcTransformation(unbound_ca, bound_ca)\n",
    "            unbound_ca = transformation.apply(unbound_ca)\n",
    "            rmsd = calcRMSD(bound_ca, unbound_ca)\n",
    "            # Visualize the superposed proteins\n",
    "            if show:\n",
    "                view = showProtein(structure_i, transformation.apply(structure_j))\n",
    "                print(f\"RMSD = {rmsd}\")\n",
    "                view.setStyle({\"cartoon\": {\"color\": \"spectrum\"}})\n",
    "                view.show()\n",
    "            pairwise_rmsds.loc[name_i, name_j] = rmsd\n",
    "        else:\n",
    "            pairwise_rmsds.loc[name_i, name_j] = np.NaN\n",
    "\n",
    "    return pairwise_rmsds"
   ]
  },
  {
   "cell_type": "code",
   "execution_count": null,
   "metadata": {},
   "outputs": [],
   "source": [
    "show_doc(make_rmsds_matrix)"
   ]
  },
  {
   "cell_type": "code",
   "execution_count": null,
   "metadata": {},
   "outputs": [],
   "source": [
    "#| hide\n",
    "import nbdev; nbdev.nbdev_export()"
   ]
  }
 ],
 "metadata": {
  "kernelspec": {
   "display_name": "python3",
   "language": "python",
   "name": "python3"
  }
 },
 "nbformat": 4,
 "nbformat_minor": 4
}
