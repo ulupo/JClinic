{
 "cells": [
  {
   "cell_type": "code",
   "execution_count": null,
   "metadata": {},
   "outputs": [],
   "source": [
    "#| hide\n",
    "from jclinic.core import *"
   ]
  },
  {
   "cell_type": "markdown",
   "metadata": {},
   "source": [
    "# JClinic\n",
    "\n",
    "> Simple protein property prediction"
   ]
  },
  {
   "cell_type": "markdown",
   "metadata": {},
   "source": [
    "## Install"
   ]
  },
  {
   "cell_type": "markdown",
   "metadata": {},
   "source": [
    "Clone this repository on your local machine by running and move inside\n",
    "the root folder. We recommend creating and activating a dedicated conda\n",
    "or virtualenv Python virtual environment.\n",
    "\n",
    "``` sh\n",
    "git clone git@github.com:ulupo/JClinic.git\n",
    "```\n",
    "\n",
    "and move inside the root folder. We recommend creating and activating a\n",
    "dedicated conda or virtualenv Python virtual environment. Then, make an\n",
    "editable install of the package:\n",
    "\n",
    "``` sh\n",
    "python -m pip install -e .\n",
    "```"
   ]
  }
 ],
 "metadata": {
  "kernelspec": {
   "display_name": "python3",
   "language": "python",
   "name": "python3"
  }
 },
 "nbformat": 4,
 "nbformat_minor": 4
}
